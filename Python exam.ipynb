{
 "cells": [
  {
   "cell_type": "markdown",
   "id": "969b4060-0de7-4abb-9b94-0f2ba1a78231",
   "metadata": {},
   "source": [
    "# Python Exam"
   ]
  },
  {
   "cell_type": "markdown",
   "id": "b9ebb094-3263-4105-9bd7-fedc830ba006",
   "metadata": {},
   "source": [
    "## Loading the CSV File"
   ]
  },
  {
   "cell_type": "code",
   "execution_count": 1,
   "id": "b3abc4da-3587-46e2-a3e0-eea58dec74ff",
   "metadata": {},
   "outputs": [],
   "source": [
    "import pandas as pd"
   ]
  },
  {
   "cell_type": "code",
   "execution_count": 2,
   "id": "39b49fca-2464-4d73-862f-f508a55d969e",
   "metadata": {},
   "outputs": [
    {
     "data": {
      "text/html": [
       "<div>\n",
       "<style scoped>\n",
       "    .dataframe tbody tr th:only-of-type {\n",
       "        vertical-align: middle;\n",
       "    }\n",
       "\n",
       "    .dataframe tbody tr th {\n",
       "        vertical-align: top;\n",
       "    }\n",
       "\n",
       "    .dataframe thead th {\n",
       "        text-align: right;\n",
       "    }\n",
       "</style>\n",
       "<table border=\"1\" class=\"dataframe\">\n",
       "  <thead>\n",
       "    <tr style=\"text-align: right;\">\n",
       "      <th></th>\n",
       "      <th>Field_ID</th>\n",
       "      <th>Elevation</th>\n",
       "      <th>Rainfall</th>\n",
       "      <th>Min_temperature_C</th>\n",
       "      <th>Max_temperature_C</th>\n",
       "      <th>pH</th>\n",
       "      <th>Pollution_level</th>\n",
       "      <th>Plot_size</th>\n",
       "      <th>Annual_yield</th>\n",
       "      <th>Crop_type</th>\n",
       "    </tr>\n",
       "  </thead>\n",
       "  <tbody>\n",
       "    <tr>\n",
       "      <th>0</th>\n",
       "      <td>1162</td>\n",
       "      <td>494.95615</td>\n",
       "      <td>1507.6</td>\n",
       "      <td>-5.4</td>\n",
       "      <td>31.0</td>\n",
       "      <td>6.859436</td>\n",
       "      <td>0.007034</td>\n",
       "      <td>3.6</td>\n",
       "      <td>1.617421</td>\n",
       "      <td>coffee</td>\n",
       "    </tr>\n",
       "    <tr>\n",
       "      <th>1</th>\n",
       "      <td>5108</td>\n",
       "      <td>663.73390</td>\n",
       "      <td>581.0</td>\n",
       "      <td>-4.7</td>\n",
       "      <td>30.9</td>\n",
       "      <td>5.603219</td>\n",
       "      <td>0.289643</td>\n",
       "      <td>4.2</td>\n",
       "      <td>2.532497</td>\n",
       "      <td>potato</td>\n",
       "    </tr>\n",
       "    <tr>\n",
       "      <th>2</th>\n",
       "      <td>3504</td>\n",
       "      <td>396.87990</td>\n",
       "      <td>1715.1</td>\n",
       "      <td>-6.1</td>\n",
       "      <td>31.7</td>\n",
       "      <td>5.774116</td>\n",
       "      <td>0.000409</td>\n",
       "      <td>2.6</td>\n",
       "      <td>1.262207</td>\n",
       "      <td>banana</td>\n",
       "    </tr>\n",
       "    <tr>\n",
       "      <th>3</th>\n",
       "      <td>5351</td>\n",
       "      <td>594.80370</td>\n",
       "      <td>1748.0</td>\n",
       "      <td>-4.3</td>\n",
       "      <td>33.6</td>\n",
       "      <td>6.477415</td>\n",
       "      <td>0.088777</td>\n",
       "      <td>7.9</td>\n",
       "      <td>4.351564</td>\n",
       "      <td>wheat</td>\n",
       "    </tr>\n",
       "    <tr>\n",
       "      <th>4</th>\n",
       "      <td>905</td>\n",
       "      <td>609.49800</td>\n",
       "      <td>1395.8</td>\n",
       "      <td>-4.5</td>\n",
       "      <td>31.3</td>\n",
       "      <td>5.419586</td>\n",
       "      <td>0.050023</td>\n",
       "      <td>10.8</td>\n",
       "      <td>5.034791</td>\n",
       "      <td>cassava</td>\n",
       "    </tr>\n",
       "  </tbody>\n",
       "</table>\n",
       "</div>"
      ],
      "text/plain": [
       "   Field_ID  Elevation  Rainfall  Min_temperature_C  Max_temperature_C  \\\n",
       "0      1162  494.95615    1507.6               -5.4               31.0   \n",
       "1      5108  663.73390     581.0               -4.7               30.9   \n",
       "2      3504  396.87990    1715.1               -6.1               31.7   \n",
       "3      5351  594.80370    1748.0               -4.3               33.6   \n",
       "4       905  609.49800    1395.8               -4.5               31.3   \n",
       "\n",
       "         pH  Pollution_level  Plot_size  Annual_yield Crop_type  \n",
       "0  6.859436         0.007034        3.6      1.617421    coffee  \n",
       "1  5.603219         0.289643        4.2      2.532497    potato  \n",
       "2  5.774116         0.000409        2.6      1.262207    banana  \n",
       "3  6.477415         0.088777        7.9      4.351564     wheat  \n",
       "4  5.419586         0.050023       10.8      5.034791   cassava  "
      ]
     },
     "execution_count": 2,
     "metadata": {},
     "output_type": "execute_result"
    }
   ],
   "source": [
    "df = pd.read_csv('MD_agric_exam-4313.csv')\n",
    "df.head()"
   ]
  },
  {
   "cell_type": "code",
   "execution_count": 3,
   "id": "204ca815-e7bc-40bc-9c1e-47daac870bb1",
   "metadata": {},
   "outputs": [
    {
     "data": {
      "text/plain": [
       "Index(['Field_ID', 'Elevation', 'Rainfall', 'Min_temperature_C',\n",
       "       'Max_temperature_C', 'pH', 'Pollution_level', 'Plot_size',\n",
       "       'Annual_yield', 'Crop_type'],\n",
       "      dtype='object')"
      ]
     },
     "execution_count": 3,
     "metadata": {},
     "output_type": "execute_result"
    }
   ],
   "source": [
    "df.columns"
   ]
  },
  {
   "cell_type": "markdown",
   "id": "cca19799-f8d5-4a7b-8d45-392b252470c3",
   "metadata": {},
   "source": [
    "## Questions on Python"
   ]
  },
  {
   "cell_type": "code",
   "execution_count": 4,
   "id": "b810fd6f-c88a-471c-8a42-de477ead1c42",
   "metadata": {},
   "outputs": [
    {
     "data": {
      "text/plain": [
       "8"
      ]
     },
     "execution_count": 4,
     "metadata": {},
     "output_type": "execute_result"
    }
   ],
   "source": [
    "# Unique crop types in the dataset\n",
    "df['Crop_type'].nunique()"
   ]
  },
  {
   "cell_type": "code",
   "execution_count": 5,
   "id": "8727eee3",
   "metadata": {},
   "outputs": [
    {
     "data": {
      "text/plain": [
       "Crop_type\n",
       "banana      7.438521\n",
       "cassava     7.728858\n",
       "coffee      7.358089\n",
       "maize       8.649657\n",
       "potato      8.873741\n",
       "rice       10.512780\n",
       "tea        12.695224\n",
       "wheat       8.994376\n",
       "Name: Annual_yield, dtype: float64"
      ]
     },
     "execution_count": 5,
     "metadata": {},
     "output_type": "execute_result"
    }
   ],
   "source": [
    "# maximum annual yield for \"wheat\" crop type in the dataset\n",
    "df.groupby('Crop_type')['Annual_yield'].max()\n"
   ]
  },
  {
   "cell_type": "code",
   "execution_count": 6,
   "id": "31d7c903",
   "metadata": {},
   "outputs": [
    {
     "data": {
      "text/plain": [
       "8.99"
      ]
     },
     "execution_count": 6,
     "metadata": {},
     "output_type": "execute_result"
    }
   ],
   "source": [
    "round(df[df['Crop_type'] == 'wheat']['Annual_yield'].max(), 2)"
   ]
  },
  {
   "cell_type": "code",
   "execution_count": 7,
   "id": "506481c7",
   "metadata": {},
   "outputs": [
    {
     "data": {
      "text/plain": [
       "478902.6"
      ]
     },
     "execution_count": 7,
     "metadata": {},
     "output_type": "execute_result"
    }
   ],
   "source": [
    "#Total rainfall for crop types where the average pollution level is above 0.2.\n",
    "df[df['Pollution_level'] > 0.2]['Rainfall'].sum()"
   ]
  },
  {
   "cell_type": "code",
   "execution_count": 8,
   "id": "cd7127fd-1370-4378-9979-cefc99318b19",
   "metadata": {},
   "outputs": [
    {
     "data": {
      "text/plain": [
       "[(1458, 40.7), (1895, 35.7), (5443, 33.4)]"
      ]
     },
     "execution_count": 8,
     "metadata": {},
     "output_type": "execute_result"
    }
   ],
   "source": [
    "def calc_temp_diff(df, field_ids):\n",
    "    \"\"\"\n",
    "     function to calculate the temperature range (Max_temperature_C - Min_temperature_C) for each farmer's field\n",
    "    \"\"\"\n",
    "    temp_diff_list = []  # Create an empty list to store temperature differences\n",
    "\n",
    "    for field_id in field_ids:\n",
    "        # Filter the DataFrame for the specified Field_ID\n",
    "        filtered_df = df[df['Field_ID'] == field_id]\n",
    "        \n",
    "        if not filtered_df.empty:\n",
    "            # Calculate temperature difference for the filtered DataFrame\n",
    "            max_temp = filtered_df['Max_temperature_C'].iloc[0]\n",
    "            min_temp = filtered_df['Min_temperature_C'].iloc[0]\n",
    "            temp_diff = max_temp - min_temp\n",
    "            temp_diff_list.append((field_id, temp_diff))  # Append the tuple to the list\n",
    "        else:\n",
    "            temp_diff_list.append((field_id, \"Temperature data not available\"))\n",
    "\n",
    "    return temp_diff_list\n",
    "\n",
    "# Field IDs for which temperature difference needs to be calculated\n",
    "field_ids = [1458, 1895, 5443]\n",
    "\n",
    "# Call the function with the DataFrame and field IDs\n",
    "result = calc_temp_diff(df, field_ids)\n",
    "result\n"
   ]
  },
  {
   "cell_type": "code",
   "execution_count": 9,
   "id": "370d132d",
   "metadata": {},
   "outputs": [
    {
     "name": "stdout",
     "output_type": "stream",
     "text": [
      "rice\n"
     ]
    }
   ],
   "source": [
    "# Identify the crop type with the lowest average minimum temperature.\n",
    "a = df['Crop_type'].unique()\n",
    "b = float('inf')\n",
    "c = ''\n",
    "for crop in a:\n",
    "    d = df[df['Crop_type'] == crop]['Min_temperature_C'].mean()\n",
    "    if d < b:\n",
    "        b = d\n",
    "        c = crop\n",
    "print(c)"
   ]
  },
  {
   "cell_type": "code",
   "execution_count": 10,
   "id": "42f67c8f",
   "metadata": {},
   "outputs": [
    {
     "data": {
      "text/plain": [
       "1731.8999999999999"
      ]
     },
     "execution_count": 10,
     "metadata": {},
     "output_type": "execute_result"
    }
   ],
   "source": [
    "#calculate the total plot size for plots where the pH is less than 5.5.\n",
    "df[df['pH']< 5.5]['Plot_size'].sum()"
   ]
  },
  {
   "cell_type": "code",
   "execution_count": 11,
   "id": "72d8dfb0",
   "metadata": {},
   "outputs": [
    {
     "data": {
      "text/plain": [
       "(319, 10)"
      ]
     },
     "execution_count": 11,
     "metadata": {},
     "output_type": "execute_result"
    }
   ],
   "source": [
    "# create a dataframe that includes entries with a 'Min_temperature_C’< -5 and a 'Max_temperature_C' > 30.\n",
    "filt_df = df[(df['Min_temperature_C'] < -5) & (df['Max_temperature_C'] > 30)]\n",
    "filt_df.shape"
   ]
  },
  {
   "cell_type": "code",
   "execution_count": 13,
   "id": "174fd34c",
   "metadata": {},
   "outputs": [],
   "source": [
    "import numpy as np"
   ]
  },
  {
   "cell_type": "code",
   "execution_count": 14,
   "id": "d39f7a09",
   "metadata": {},
   "outputs": [
    {
     "data": {
      "text/plain": [
       "469.6199685856172"
      ]
     },
     "execution_count": 14,
     "metadata": {},
     "output_type": "execute_result"
    }
   ],
   "source": [
    "#calculate the standard deviation of the 'Rainfall' for plots where the 'Plot_size' is larger than the median plot size of the dataset\n",
    "med_plot_size = df['Plot_size'].median()\n",
    "plot = df[df['Plot_size'] > med_plot_size]\n",
    "np.std(plot['Rainfall'])"
   ]
  },
  {
   "cell_type": "code",
   "execution_count": 36,
   "id": "1385343f",
   "metadata": {},
   "outputs": [
    {
     "data": {
      "text/plain": [
       "Max_temperature_C\n",
       "30.7    26\n",
       "31.0    25\n",
       "30.5    24\n",
       "31.5    23\n",
       "30.2    22\n",
       "        ..\n",
       "35.8     1\n",
       "26.3     1\n",
       "35.2     1\n",
       "35.7     1\n",
       "37.3     1\n",
       "Name: count, Length: 100, dtype: int64"
      ]
     },
     "execution_count": 36,
     "metadata": {},
     "output_type": "execute_result"
    }
   ],
   "source": [
    "#the most common ‘Max_temperature_C’ \n",
    "df['Max_temperature_C'].value_counts()"
   ]
  },
  {
   "cell_type": "code",
   "execution_count": 15,
   "id": "123badc0",
   "metadata": {},
   "outputs": [
    {
     "data": {
      "text/plain": [
       "Crop_type\n",
       "rice        48\n",
       "maize       82\n",
       "coffee      99\n",
       "banana     103\n",
       "tea        137\n",
       "cassava    141\n",
       "potato     146\n",
       "wheat      244\n",
       "Name: count, dtype: int64"
      ]
     },
     "execution_count": 15,
     "metadata": {},
     "output_type": "execute_result"
    }
   ],
   "source": [
    "# least common 'Crop_type', \n",
    "df['Crop_type'].value_counts(ascending=True)"
   ]
  },
  {
   "cell_type": "code",
   "execution_count": 16,
   "id": "0c7585b9",
   "metadata": {},
   "outputs": [],
   "source": [
    "import seaborn as sns\n",
    "import matplotlib.pyplot as plt"
   ]
  },
  {
   "cell_type": "code",
   "execution_count": 17,
   "id": "3e043562",
   "metadata": {},
   "outputs": [],
   "source": [
    "def categorize_elevation(elevation):\n",
    "    \"\"\"\n",
    "    function to categorize elevation\n",
    "    \"\"\"\n",
    "    if elevation < 300:\n",
    "        return 'Low'\n",
    "    elif 300 <= elevation <= 600:\n",
    "        return 'Medium'\n",
    "    else:\n",
    "        return 'High'\n",
    "\n",
    "df['Elevation_range'] = df['Elevation'].apply(categorize_elevation)\n"
   ]
  },
  {
   "cell_type": "code",
   "execution_count": 19,
   "id": "4e2975df",
   "metadata": {},
   "outputs": [
    {
     "data": {
      "image/png": "[encoded data removed]",
      "text/plain": [
       "<Figure size 640x480 with 1 Axes>"
      ]
     },
     "metadata": {},
     "output_type": "display_data"
    }
   ],
   "source": [
    "#create a violin plot visualising the distribution of 'Annual_yield' across different 'Elevation' ranges\n",
    "sns.violinplot(x='Elevation_range', y='Annual_yield', data=df, order=['Low', 'Medium', 'High'])\n",
    "\n",
    "plt.title('Distribution of Annual Yield across Elevation Ranges')\n",
    "plt.xlabel('Elevation Range')\n",
    "plt.ylabel('Annual Yield');"
   ]
  },
  {
   "cell_type": "code",
   "execution_count": 30,
   "id": "0e97c360-9125-4e1e-873f-37a433c7d59d",
   "metadata": {},
   "outputs": [
    {
     "name": "stdout",
     "output_type": "stream",
     "text": [
      "42\n"
     ]
    }
   ],
   "source": [
    "# recursive function to sum the integer values for each unique crop type in the dataset\n",
    "crop_types = df['Crop_type'].drop_duplicates().tolist()\n",
    "def sum_crop_lengths(crops, index=0):\n",
    "    if index == len(crops):\n",
    "        return 0\n",
    "    else:\n",
    "        return len(crops[index]) + sum_crop_lengths(crops, index + 1)\n",
    "        \n",
    "total_length = sum_crop_lengths(crop_types)\n",
    "print(total_length)"
   ]
  },
  {
   "cell_type": "code",
   "execution_count": 31,
   "id": "230e7dae-b371-410d-9864-2f017e0616cb",
   "metadata": {},
   "outputs": [
    {
     "name": "stdout",
     "output_type": "stream",
     "text": [
      "0.598\n"
     ]
    }
   ],
   "source": [
    "# t-test comparing the average 'Annual_yield' between 'coffee' and 'banana' crop types\n",
    "\n",
    "from scipy import stats\n",
    "coffee_yield = df[df['Crop_type'] == 'coffee']['Annual_yield']\n",
    "banana_yield = df[df['Crop_type'] == 'banana']['Annual_yield']\n",
    "\n",
    "t_stat, p_value = stats.ttest_ind(coffee_yield, banana_yield)\n",
    "print(round(p_value, 3))"
   ]
  },
  {
   "cell_type": "code",
   "execution_count": null,
   "id": "a81b4315-4d40-42b1-b8a8-cfb72c105d66",
   "metadata": {},
   "outputs": [],
   "source": []
  }
 ],
 "metadata": {
  "kernelspec": {
   "display_name": "Python 3 (ipykernel)",
   "language": "python",
   "name": "python3"
  },
  "language_info": {
   "codemirror_mode": {
    "name": "ipython",
    "version": 3
   },
   "file_extension": ".py",
   "mimetype": "text/x-python",
   "name": "python",
   "nbconvert_exporter": "python",
   "pygments_lexer": "ipython3",
   "version": "3.11.7"
  }
 },
 "nbformat": 4,
 "nbformat_minor": 5
}
